{
 "cells": [
  {
   "cell_type": "code",
   "execution_count": 1,
   "metadata": {},
   "outputs": [],
   "source": [
    "import folium \n",
    "import io\n",
    "from geopy.geocoders import Nominatim\n",
    "import osmnx as ox\n",
    "from osmnx import routing\n"
   ]
  },
  {
   "cell_type": "code",
   "execution_count": 4,
   "metadata": {},
   "outputs": [
    {
     "data": {
      "text/plain": [
       "<networkx.classes.multidigraph.MultiDiGraph at 0x1dafe6f61d0>"
      ]
     },
     "execution_count": 4,
     "metadata": {},
     "output_type": "execute_result"
    }
   ],
   "source": [
    "graph = ox.graph_from_place(\"samara, russia\", network_type = \"drive\")\n",
    "graph"
   ]
  },
  {
   "cell_type": "code",
   "execution_count": 28,
   "metadata": {},
   "outputs": [
    {
     "name": "stdout",
     "output_type": "stream",
     "text": [
      "{152356981: {0: {'osmid': 106764495, 'oneway': True, 'lanes': '2', 'name': 'Красноармейская улица', 'highway': 'secondary', 'maxspeed': '60', 'reversed': False, 'length': 190.07599999999996, 'geometry': <LINESTRING (50.122 53.188, 50.122 53.188, 50.12 53.189, 50.12 53.189)>, 'speed_kph': 60.0, 'travel_time': 11.4}}, 152685986: {0: {'osmid': [121707925, 106764558], 'oneway': True, 'lanes': '4', 'name': 'Спортивная улица', 'highway': 'primary', 'maxspeed': '60', 'reversed': False, 'length': 422.62, 'geometry': <LINESTRING (50.122 53.188, 50.122 53.188, 50.122 53.188, 50.123 53.19, 50.1...>, 'speed_kph': 60.0, 'travel_time': 25.4}}}\n"
     ]
    }
   ],
   "source": [
    "list_keys = {\n",
    "'secondary': 50, 'primary': 70, 'tertiary': 30, 'secondary_link': 30, 'residential': 20, 'primary_link': 30}\n",
    "graph = ox.add_edge_speeds(graph, list_keys, 50)\n",
    "\n",
    "graph = ox.add_edge_travel_times(graph)\n",
    "for i in graph:\n",
    "    print(graph[i])\n",
    "    break"
   ]
  }
 ],
 "metadata": {
  "kernelspec": {
   "display_name": ".venv",
   "language": "python",
   "name": "python3"
  },
  "language_info": {
   "codemirror_mode": {
    "name": "ipython",
    "version": 3
   },
   "file_extension": ".py",
   "mimetype": "text/x-python",
   "name": "python",
   "nbconvert_exporter": "python",
   "pygments_lexer": "ipython3",
   "version": "3.11.1"
  },
  "orig_nbformat": 4,
  "vscode": {
   "interpreter": {
    "hash": "c66ccebe7dda7b13a310b1333ee3a653bc569f1476d9c0f3953770b69096ad1c"
   }
  }
 },
 "nbformat": 4,
 "nbformat_minor": 2
}
